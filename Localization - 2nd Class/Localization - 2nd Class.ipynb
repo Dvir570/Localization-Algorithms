{
 "cells": [
  {
   "cell_type": "code",
   "execution_count": 6,
   "metadata": {},
   "outputs": [
    {
     "name": "stdout",
     "output_type": "stream",
     "text": [
      "[0.2, 0.2, 0.2, 0.2, 0.2]\n",
      "[0.3333333333333333, 0.0, 0.0, 0.3333333333333333, 0.3333333333333333]\n"
     ]
    }
   ],
   "source": [
    "p = [0.2, 0.2, 0.2, 0.2, 0.2]\n",
    "world = ['green', 'red', 'red', 'green', 'green']\n",
    "Z = 'green'\n",
    "pHit = 0.6\n",
    "pMiss = 0.2\n",
    "def sense(p, Z):\n",
    "    q=[]\n",
    "    for i in range(len(p)):\n",
    "            hit = (Z == world[i])\n",
    "            q.append(p[i] * (hit * pHit + (1-hit)* pMiss))\n",
    "    s=sum(q)\n",
    "    for i in range(len(p)):\n",
    "        q[i]=q[i]/s\n",
    "    return q\n",
    "    \n",
    "print(p)   \n",
    "print (sense(p, Z))"
   ]
  },
  {
   "cell_type": "code",
   "execution_count": null,
   "metadata": {
    "collapsed": true
   },
   "outputs": [],
   "source": []
  },
  {
   "cell_type": "code",
   "execution_count": 27,
   "metadata": {},
   "outputs": [
    {
     "name": "stdout",
     "output_type": "stream",
     "text": [
      "[0.2, 0.2, 0.2, 0.2, 0.2]\n",
      "[0.1111111111111111, 0.3333333333333332, 0.3333333333333332, 0.1111111111111111, 0.1111111111111111]\n",
      "[0.047619047619047644, 0.4285714285714286, 0.4285714285714286, 0.047619047619047644, 0.047619047619047644]\n"
     ]
    }
   ],
   "source": [
    "#Normalized Probability:\n",
    "\n",
    "p = [0.2,0.2,0.2,0.2,0.2]\n",
    "world = ['green', 'red', 'red', 'green', 'green']\n",
    "Z = ['red','red']\n",
    "pHit = 0.6\n",
    "pMiss = 0.2\n",
    "def sense(p, Z):\n",
    "    q=[]\n",
    "    for i in range(len(p)):\n",
    "            hit = (Z == world[i])\n",
    "            q.append(p[i] * (hit * pHit + (1-hit)* pMiss))\n",
    "    s=sum(q)\n",
    "    for i in range(len(p)):\n",
    "        q[i]=q[i]/s\n",
    "    return q\n",
    "\n",
    "print(p)\n",
    "p=sense(p,Z[0])\n",
    "print(p)\n",
    "p=sense(p,Z[0])\n",
    "print(p)\n",
    "\n"
   ]
  },
  {
   "cell_type": "code",
   "execution_count": null,
   "metadata": {
    "collapsed": true
   },
   "outputs": [],
   "source": []
  },
  {
   "cell_type": "code",
   "execution_count": 17,
   "metadata": {},
   "outputs": [
    {
     "name": "stdout",
     "output_type": "stream",
     "text": [
      "[0.9529411764705881, 0.011764705882352948, 0.011764705882352948, 0.011764705882352948, 0.011764705882352948]\n"
     ]
    }
   ],
   "source": [
    "#Many Measurments:\n",
    "\n",
    "p = [0.2, 0.2, 0.2, 0.2, 0.2]\n",
    "world = ['green', 'red', 'red', 'red', 'red']\n",
    "measurements = ['green', 'green','green','green']\n",
    "pHit = 0.6\n",
    "pMiss = 0.2\n",
    "def sense(p, Z):\n",
    "    q=[]\n",
    "    for i in range(len(p)):\n",
    "            hit = (Z == world[i])\n",
    "            q.append(p[i] * (hit * pHit + (1-hit)* pMiss))\n",
    "    s=sum(q)\n",
    "    for i in range(len(p)):\n",
    "        q[i]=q[i]/s\n",
    "    return q\n",
    "            \n",
    "for k in range(len(measurements)):\n",
    "    p=sense(p, measurements[k])\n",
    "print (p)"
   ]
  },
  {
   "cell_type": "markdown",
   "metadata": {},
   "source": [
    "# Movement!"
   ]
  },
  {
   "cell_type": "code",
   "execution_count": null,
   "metadata": {
    "collapsed": true
   },
   "outputs": [],
   "source": []
  },
  {
   "cell_type": "code",
   "execution_count": 22,
   "metadata": {},
   "outputs": [
    {
     "name": "stdout",
     "output_type": "stream",
     "text": [
      "[0, 1, 0, 0, 0]\n",
      "[0.1, 0.8, 0.1, 0.0, 0.0]\n",
      "[0.1, 0.8, 0.1, 0.0, 0.0]\n"
     ]
    }
   ],
   "source": [
    "p=[0, 1, 0, 0, 0]\n",
    "world=['green', 'red', 'red', 'green', 'green']\n",
    "measurements = ['red', 'green']\n",
    "pHit = 0.6\n",
    "pMiss = 0.2\n",
    "pExact = 0.8\n",
    "pOvershoot = 0.1\n",
    "pUndershoot = 0.1\n",
    "\n",
    "def sense(p, Z):\n",
    "    q=[]\n",
    "    for i in range(len(p)):\n",
    "        hit = (Z == world[i])\n",
    "        q.append(p[i] * (hit * pHit + (1-hit) * pMiss))\n",
    "    s = sum(q)\n",
    "    for i in range(len(q)):\n",
    "        q[i] = q[i] / s\n",
    "    return q\n",
    "\n",
    "def move(p, U):\n",
    "    q = []\n",
    "    for i in range(len(p)):\n",
    "        s = pExact * p[(i-U) % len(p)]\n",
    "        s = s + pOvershoot * p[(i-U-1) % len(p)]\n",
    "        s = s + pUndershoot * p[(i-U+1) % len(p)]\n",
    "        q.append(s)\n",
    "    return q\n",
    "\n",
    "print(p)\n",
    "for i in range(1):\n",
    "    p=move(p,10)\n",
    "print(p)\n",
    "\n",
    "#print(p)\n",
    "\n",
    "\n",
    "print (p)"
   ]
  },
  {
   "cell_type": "code",
   "execution_count": 18,
   "metadata": {},
   "outputs": [
    {
     "data": {
      "text/plain": [
       "2"
      ]
     },
     "execution_count": 18,
     "metadata": {},
     "output_type": "execute_result"
    }
   ],
   "source": [
    "(-1)%3"
   ]
  },
  {
   "cell_type": "code",
   "execution_count": 26,
   "metadata": {},
   "outputs": [
    {
     "name": "stdout",
     "output_type": "stream",
     "text": [
      "['green', 'red', 'red', 'green', 'green']\n",
      "[0.2, 0.2, 0.2, 0.2, 0.2]\n",
      "[0.1111111111111111, 0.3333333333333332, 0.3333333333333332, 0.1111111111111111, 0.1111111111111111]\n",
      "[0.1578947368421053, 0.05263157894736844, 0.15789473684210523, 0.47368421052631576, 0.1578947368421053]\n",
      "Before meassurment\n",
      "[0.1578947368421053, 0.1578947368421053, 0.05263157894736844, 0.15789473684210523, 0.47368421052631576]\n",
      "[0.18367346938775514, 0.06122448979591838, 0.02040816326530613, 0.18367346938775503, 0.5510204081632653]\n"
     ]
    }
   ],
   "source": [
    "\n",
    "# uncertenty:\n",
    "p=[0.2, 0.2, 0.2, 0.2, 0.2]\n",
    "world=['green', 'red', 'red', 'green', 'green']\n",
    "measurements = ['red', 'green']\n",
    "pHit = 0.6\n",
    "pMiss = 0.2\n",
    "pExact = 0.8\n",
    "pOvershoot = 0.1\n",
    "pUndershoot = 0.1\n",
    "\n",
    "def sense(p, Z):\n",
    "    q=[]\n",
    "    for i in range(len(p)):\n",
    "        hit = (Z == world[i])\n",
    "        q.append(p[i] * (hit * pHit + (1-hit) * pMiss))\n",
    "    s = sum(q)\n",
    "    for i in range(len(q)):\n",
    "        q[i] = q[i] / s\n",
    "    return q\n",
    "\n",
    "def move(p, U):\n",
    "    q = []\n",
    "    for i in range(len(p)):\n",
    "        s = pExact * p[(i-U) % len(p)]\n",
    "        s = s + pOvershoot * p[(i-U-1) % len(p)]\n",
    "        s = s + pUndershoot * p[(i-U+1) % len(p)]\n",
    "        q.append(s)\n",
    "    return q\n",
    "print(world)\n",
    "print(p)\n",
    "p= sense(p,measurements[0])\n",
    "print(p)\n",
    "p = move(p, 1)\n",
    "p= sense(p,measurements[1])\n",
    "print(p)\n",
    "p = move(p, 1)\n",
    "print(\"Before meassurment\")\n",
    "print(p)\n",
    "p= sense(p,measurements[1])\n",
    "#p=move(p,1)\n",
    "print(p) "
   ]
  },
  {
   "cell_type": "markdown",
   "metadata": {
    "collapsed": true
   },
   "source": [
    "# HomeWork - First Assignment\n"
   ]
  },
  {
   "cell_type": "code",
   "execution_count": 1,
   "metadata": {},
   "outputs": [
    {
     "name": "stdout",
     "output_type": "stream",
     "text": [
      "[[0.05000,0.05000,0.05000,0.05000,0.05000],\n",
      " [0.05000,0.05000,0.05000,0.05000,0.05000],\n",
      " [0.05000,0.05000,0.05000,0.05000,0.05000],\n",
      " [0.05000,0.05000,0.05000,0.05000,0.05000]]\n"
     ]
    }
   ],
   "source": [
    "# The function localize takes the following arguments:\n",
    "#\n",
    "# colors:\n",
    "#        2D list, each entry either 'R' (for red cell) or 'G' (for green cell)\n",
    "#\n",
    "# measurements:\n",
    "#        list of measurements taken by the robot, each entry either 'R' or 'G'\n",
    "#\n",
    "# motions:\n",
    "#        list of actions taken by the robot, each entry of the form [dy,dx],\n",
    "#        where dx refers to the change in the x-direction (positive meaning\n",
    "#        movement to the right) and dy refers to the change in the y-direction\n",
    "#        (positive meaning movement downward)\n",
    "#        NOTE: the *first* coordinate is change in y; the *second* coordinate is\n",
    "#              change in x\n",
    "#\n",
    "# sensor_right:\n",
    "#        float between 0 and 1, giving the probability that any given\n",
    "#        measurement is correct; the probability that the measurement is\n",
    "#        incorrect is 1-sensor_right\n",
    "#\n",
    "# p_move:\n",
    "#        float between 0 and 1, giving the probability that any given movement\n",
    "#        command takes place; the probability that the movement command fails\n",
    "#        (and the robot remains still) is 1-p_move; the robot will NOT overshoot\n",
    "#        its destination in this exercise\n",
    "#\n",
    "# The function should RETURN (not just show or print) a 2D list (of the same\n",
    "# dimensions as colors) that gives the probabilities that the robot occupies\n",
    "# each cell in the world.\n",
    "#\n",
    "# Compute the probabilities by assuming the robot initially has a uniform\n",
    "# probability of being in any cell.\n",
    "#\n",
    "# Also assume that at each step, the robot:\n",
    "# 1) first makes a movement,\n",
    "# 2) then takes a measurement.\n",
    "#\n",
    "# Motion:\n",
    "#  [0,0] - stay\n",
    "#  [0,1] - right\n",
    "#  [0,-1] - left\n",
    "#  [1,0] - down\n",
    "#  [-1,0] - up\n",
    "\n",
    "def localize(colors,measurements,motions,sensor_right,p_move):\n",
    "    # initializes p to a uniform distribution over a grid of the same dimensions as colors\n",
    "    pinit = 1.0 / float(len(colors)) / float(len(colors[0]))\n",
    "    p = [[pinit for row in range(len(colors[0]))] for col in range(len(colors))]\n",
    "    \n",
    "    # >>> Insert your code here <<<\n",
    "    \n",
    "    return p\n",
    "\n",
    "def show(p):\n",
    "    rows = ['[' + ','.join(map(lambda x: '{0:.5f}'.format(x),r)) + ']' for r in p]\n",
    "    print ('[' + ',\\n '.join(rows) + ']')\n",
    "    \n",
    "#############################################################\n",
    "# For the following test case, your output should be \n",
    "# [[0.01105, 0.02464, 0.06799, 0.04472, 0.02465],\n",
    "#  [0.00715, 0.01017, 0.08696, 0.07988, 0.00935],\n",
    "#  [0.00739, 0.00894, 0.11272, 0.35350, 0.04065],\n",
    "#  [0.00910, 0.00715, 0.01434, 0.04313, 0.03642]]\n",
    "# (within a tolerance of +/- 0.001 for each entry)\n",
    "\n",
    "colors = [['R','G','G','R','R'],\n",
    "          ['R','R','G','R','R'],\n",
    "          ['R','R','G','G','R'],\n",
    "          ['R','R','R','R','R']]\n",
    "measurements = ['G','G','G','G','G']\n",
    "motions = [[0,0],[0,1],[1,0],[1,0],[0,1]]\n",
    "p = localize(colors,measurements,motions,sensor_right = 0.7, p_move = 0.8)\n",
    "show(p) # displays your answer\n"
   ]
  }
 ],
 "metadata": {
  "anaconda-cloud": {},
  "kernelspec": {
   "display_name": "Python [default]",
   "language": "python",
   "name": "python3"
  },
  "language_info": {
   "codemirror_mode": {
    "name": "ipython",
    "version": 3
   },
   "file_extension": ".py",
   "mimetype": "text/x-python",
   "name": "python",
   "nbconvert_exporter": "python",
   "pygments_lexer": "ipython3",
   "version": "3.6.5"
  }
 },
 "nbformat": 4,
 "nbformat_minor": 1
}
